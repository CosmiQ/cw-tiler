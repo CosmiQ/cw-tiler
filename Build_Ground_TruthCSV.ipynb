{
 "cells": [
  {
   "cell_type": "markdown",
   "metadata": {},
   "source": [
    "## This notebook demonstrates the abiliyt to create a SpaceNET CSV from GeoJSON's as ground truth"
   ]
  },
  {
   "cell_type": "code",
   "execution_count": 2,
   "metadata": {},
   "outputs": [],
   "source": [
    "from spacenetutilities.labeltools import coreLabelTools as lT\n",
    "import os\n",
    "import glob\n",
    "import argparse"
   ]
  },
  {
   "cell_type": "code",
   "execution_count": 3,
   "metadata": {},
   "outputs": [],
   "source": [
    "## Src Directory for a Group of Tiff Files\n",
    "srcDirectory = '/raid/nfs/data/Datasets/CosmiQ_General_Study/AOI_6_Atlanta/processedDatav3/SpaceNet-Off-Nadir_Train/Atlanta_nadir10_catid_1030010003993E00/'\n",
    "\n",
    "## GeoJSON Directory\n",
    "geojsonDirectory = \"/raid/nfs/data/Datasets/CosmiQ_General_Study/AOI_6_Atlanta/processedDatav3/SpaceNet-Off-Nadir_Train/geojson/spacenet-buildings/\""
   ]
  },
  {
   "cell_type": "code",
   "execution_count": 3,
   "metadata": {},
   "outputs": [
    {
     "data": {
      "text/plain": [
       "1"
      ]
     },
     "execution_count": 3,
     "metadata": {},
     "output_type": "execute_result"
    }
   ],
   "source": [
    "## Get List of all Pan-Sharpen Tiffs in rasterList (Ensure Tiff is at resolutions required)\n",
    "rasterList = glob.glob(os.path.join(srcDirectory, '**', 'Pan-Sharpen*.tif'), recursive=True)\n",
    "geoJsonList = glob.glob(os.path.join(geojsonDirectory, '**', '*.geojson'), recursive=True)\n",
    "\n",
    "# Use this flag to have the CSV be a prediction CSV with a Confidence Value Inserted for Creating Ground Truth Set to False\n",
    "createProposalFile=False\n",
    "\n",
    "chipSummaryList = []\n",
    "\n",
    "# Set Pixel Precision (Round(pixelPrecision))  This says that each pixel coordinate should only have 3 decimals\n",
    "pixelPrecision = 3\n",
    "\n",
    "# Specify Competition type \n",
    "compType = \"buildings\"\n",
    "\n",
    "## Specify Output File\n",
    "outputCSVFileName = \"/raid/nfs/workingDir/cw-tiler/AOI_6_Atlanta_Train_v6.csv\"\n",
    "\n",
    "## Specify whether to understand occluded_flag,  SpaceNet 4 added the occluded flag for Building footprints\n",
    "occluded_flag=True\n",
    "\n",
    "\n",
    "## Create Chip List, This look matches a GeoTiff, with a GeoJSON and then specifies the imageId for the CSV\n",
    "for rasterName in rasterList:\n",
    "    rasterBase = os.path.basename(rasterName)\n",
    "    baseSplit = rasterBase.rsplit('_', 3)\n",
    "    imageId = rasterBase.split('_',1)[1]\n",
    "    geoVectorName = os.path.join(geojsonDirectory,\n",
    "                                 \"spacenet-buildings_{}_{}\".format(baseSplit[2], baseSplit[3]).replace(\".tif\", \".geojson\")\n",
    "                                )\n",
    "    \n",
    "    \n",
    "    chipSummary = {'chipName': rasterName,\n",
    "                   'geoVectorName': geoVectorName,\n",
    "                   'imageId': imageId.replace(\".tif\", \"\")}\n",
    "\n",
    "    chipSummaryList.append(chipSummary)\n",
    "    \n",
    "\n",
    "## Call Final Command for \n",
    "lT.createCSVSummaryFile(chipSummaryList, outputCSVFileName,\n",
    "                            replaceImageID=\"\",\n",
    "                            createProposalsFile=createProposalFile,\n",
    "                            pixPrecision=pixelPrecision,\n",
    "                            competitionType=compType,\n",
    "                       occluded_flag=occluded_flag)"
   ]
  }
 ],
 "metadata": {
  "kernelspec": {
   "display_name": "Python [conda env:cw-tiler]",
   "language": "python",
   "name": "conda-env-cw-tiler-py"
  },
  "language_info": {
   "codemirror_mode": {
    "name": "ipython",
    "version": 3
   },
   "file_extension": ".py",
   "mimetype": "text/x-python",
   "name": "python",
   "nbconvert_exporter": "python",
   "pygments_lexer": "ipython3",
   "version": "3.6.5"
  }
 },
 "nbformat": 4,
 "nbformat_minor": 2
}
